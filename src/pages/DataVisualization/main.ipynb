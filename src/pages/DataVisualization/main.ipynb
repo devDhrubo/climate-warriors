{
 "cells": [
  {
   "cell_type": "code",
   "execution_count": 2,
   "metadata": {},
   "outputs": [],
   "source": [
    "import dask.dataframe as dd\n",
    "import folium\n",
    "import numpy as np\n",
    "import pandas as pd\n",
    "from folium.plugins import MarkerCluster\n",
    "from sklearn.neighbors import NearestNeighbors\n",
    "\n",
    "# Load large dataset with Dask\n",
    "file_path = 'C:/Users/momru/Desktop/NSAC-2024/0Final Work/seal level Datasets/web/data_gapped.csv'\n",
    "ddf = dd.read_csv(file_path)\n",
    "\n",
    "# Convert to pandas for quick sampling and reduce size for visualization\n",
    "sampled_df = ddf.sample(frac=0.01).compute()\n",
    "\n",
    "# Set up interactive map with folium\n",
    "def create_map():\n",
    "    m = folium.Map(location=[0, 0], zoom_start=2)\n",
    "    marker_cluster = MarkerCluster().add_to(m)\n",
    "\n",
    "    for _, row in sampled_df.iterrows():\n",
    "        lat = row['Latitude']\n",
    "        lon = row['Longitude']\n",
    "        sla = row['SLA']\n",
    "        year = row['Year']\n",
    "        # Tooltip only shows SLA, you can format it as needed\n",
    "        folium.Marker(\n",
    "            location=[lat, lon],\n",
    "            tooltip=f\"Sea Level: {sla}\",  # Shows SLA on hover\n",
    "            popup=f\"Year: {year}<br>SLA: {sla}\"  # Popup shows Year and SLA\n",
    "        ).add_to(marker_cluster)\n",
    "\n",
    "    return m\n",
    "\n",
    "# Machine Learning Model\n",
    "def build_knn_model(df):\n",
    "    coordinates = df[['Latitude', 'Longitude']].values\n",
    "    sla_data = df[['SLA', 'Year']].values\n",
    "    knn = NearestNeighbors(n_neighbors=1, algorithm='auto').fit(coordinates)\n",
    "    return knn, sla_data\n",
    "\n",
    "# Query data on user click (find nearest neighbor in dataset)\n",
    "def query_point(latitude, longitude, knn_model, data):\n",
    "    point = np.array([[latitude, longitude]])\n",
    "    distance, index = knn_model.kneighbors(point)\n",
    "    sla_info = data[index[0][0]]\n",
    "    return sla_info\n",
    "\n",
    "# Usage example\n",
    "m = create_map()\n",
    "m.save('interactive_sea_level_map.html')\n",
    "\n",
    "# Build and use the KNN model\n",
    "knn_model, sla_data = build_knn_model(sampled_df)\n",
    "clicked_point_data = query_point(10.0, 20.0, knn_model, sla_data)\n"
   ]
  }
 ],
 "metadata": {
  "kernelspec": {
   "display_name": "Python 3 (ipykernel)",
   "language": "python",
   "name": "python3"
  },
  "language_info": {
   "codemirror_mode": {
    "name": "ipython",
    "version": 3
   },
   "file_extension": ".py",
   "mimetype": "text/x-python",
   "name": "python",
   "nbconvert_exporter": "python",
   "pygments_lexer": "ipython3",
   "version": "3.12.5"
  }
 },
 "nbformat": 4,
 "nbformat_minor": 4
}
